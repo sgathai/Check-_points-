{
 "cells": [
  {
   "cell_type": "markdown",
   "id": "86d83dba",
   "metadata": {
    "deletable": false,
    "editable": false,
    "nbgrader": {
     "cell_type": "markdown",
     "checksum": "7ac2755d930fbe0f7197bb3ba7fcb121",
     "grade": false,
     "grade_id": "cell-337443b439b5c8de",
     "locked": true,
     "schema_version": 3,
     "solution": false,
     "task": false
    }
   },
   "source": [
    "# Unsupervised ML Checkpoint\n",
    "\n",
    "This checkpoint is designed to test your understanding of unsupervised machine learning.\n",
    "\n",
    "Specifically, this will cover:\n",
    "\n",
    "* Reducing dimensionality of data using Principal Component Analysis (PCA)\n",
    "* Performing clustering analysis of data, including interpreting silhouette scores\n",
    "* Creating visualizations using unsupervised ML\n",
    "\n",
    "## Your Task: Use Unsupervised ML to Investigate a Sensor Dataset\n",
    "\n",
    "### Data Understanding\n",
    "\n",
    "You will be using a dataset ([source](https://archive.ics.uci.edu/ml/datasets/Human+Activity+Recognition+Using+Smartphones)) generated from embedded sensors (accelerometer and gyroscope) in a smartphone worn on a person's waist. Additional processing and feature engineering has already been applied to the data, including noise filters, resulting in a 561-feature vector.\n",
    "\n",
    "In the cell below, we load the data into a `pandas` dataframe:"
   ]
  },
  {
   "cell_type": "code",
   "execution_count": null,
   "id": "f89cbc61",
   "metadata": {
    "deletable": false,
    "editable": false,
    "nbgrader": {
     "cell_type": "code",
     "checksum": "6c944629c787b9aa8361d4e748c0044a",
     "grade": false,
     "grade_id": "cell-430a17fd5fecb3d6",
     "locked": true,
     "schema_version": 3,
     "solution": false,
     "task": false
    }
   },
   "outputs": [],
   "source": [
    "# Run this cell without changes\n",
    "import pandas as pd\n",
    "\n",
    "df = pd.read_csv(\"sensor_data.csv\")\n",
    "df"
   ]
  },
  {
   "cell_type": "markdown",
   "id": "f2767f9d",
   "metadata": {
    "deletable": false,
    "editable": false,
    "nbgrader": {
     "cell_type": "markdown",
     "checksum": "9e741c228bf5f409c53c9d59da62c36d",
     "grade": false,
     "grade_id": "cell-4a36cadf49c6ded9",
     "locked": true,
     "schema_version": 3,
     "solution": false,
     "task": false
    }
   },
   "source": [
    "### Data Processing and Visualization\n",
    "\n",
    "As you can see, this dataset has many features (561 total). There is also likely to be high multicollinearity between these features due to the feature engineering process, which repeatedly used some of the same raw sensor data (e.g. \"tBodyAcc-mean()\") to generate different columns.\n",
    "\n",
    "Your task is to look for some underlying patterns in this data using unsupervised ML techniques, specifically PCA and k-means clustering. You do not need to perform a train-test split."
   ]
  },
  {
   "cell_type": "markdown",
   "id": "e0c53ced",
   "metadata": {
    "deletable": false,
    "editable": false,
    "nbgrader": {
     "cell_type": "markdown",
     "checksum": "a4a2c017eb0d03a39da3cb6b3af539bf",
     "grade": false,
     "grade_id": "cell-01ad6fc91539f670",
     "locked": true,
     "schema_version": 3,
     "solution": false,
     "task": false
    }
   },
   "source": [
    "## 1. Prepare Data for Principal Component Analysis (PCA)\n",
    "\n",
    "Instantiate a `StandardScaler` and use it to create a scaled variable called `data_scaled`."
   ]
  },
  {
   "cell_type": "code",
   "execution_count": null,
   "id": "c387707b",
   "metadata": {
    "deletable": false,
    "nbgrader": {
     "cell_type": "code",
     "checksum": "2bce3dc493538ab058619f5b1ec8fe74",
     "grade": false,
     "grade_id": "cell-c83c39b5eaca014f",
     "locked": false,
     "schema_version": 3,
     "solution": true,
     "task": false
    }
   },
   "outputs": [],
   "source": [
    "# Replace None with appropriate code\n",
    "\n",
    "# Import relevant class\n",
    "None\n",
    "\n",
    "# Create scaled variable\n",
    "data_scaled = None\n",
    "# YOUR CODE HERE\n",
    "raise NotImplementedError()\n",
    "\n",
    "# Convert data_scaled to a DataFrame for readability\n",
    "data_scaled = pd.DataFrame(data_scaled, columns=df.columns)\n",
    "data_scaled"
   ]
  },
  {
   "cell_type": "code",
   "execution_count": null,
   "id": "3c9e9d2d",
   "metadata": {
    "deletable": false,
    "editable": false,
    "nbgrader": {
     "cell_type": "code",
     "checksum": "637592f74965f626ff0e45a79a3701f3",
     "grade": true,
     "grade_id": "cell-86c65ec994d85727",
     "locked": true,
     "points": 1,
     "schema_version": 3,
     "solution": false,
     "task": false
    }
   },
   "outputs": [],
   "source": [
    "# data_scaled should have the same shape as df\n",
    "assert data_scaled.shape == df.shape\n",
    "\n",
    "# data_scaled should not be the same as df\n",
    "assert data_scaled.loc[0,\"angle(Z,gravityMean)\"] != df.loc[0,\"angle(Z,gravityMean)\"]\n",
    "\n",
    "# PUT ALL WORK FOR THE ABOVE QUESTION ABOVE THIS CELL\n",
    "# THIS UNALTERABLE CELL CONTAINS HIDDEN TESTS"
   ]
  },
  {
   "cell_type": "markdown",
   "id": "8b00c85f",
   "metadata": {
    "deletable": false,
    "editable": false,
    "nbgrader": {
     "cell_type": "markdown",
     "checksum": "5dd78ee8853f71cc700c8f96711a2a19",
     "grade": false,
     "grade_id": "cell-2b0bca2afc69d90e",
     "locked": true,
     "schema_version": 3,
     "solution": false,
     "task": false
    }
   },
   "source": [
    "## 2. Perform PCA on the Dataset\n",
    "\n",
    "Using the scikit-learn `PCA` class ([documentation here](https://scikit-learn.org/stable/modules/generated/sklearn.decomposition.PCA.html)), create:\n",
    "\n",
    "* A `PCA` object called `pca_transformer` with a `random_state` of 42 and at least 95% of the variance is explained\n",
    "* A variable called `pca_data` that represents the data transformed by `pca_transformer`"
   ]
  },
  {
   "cell_type": "code",
   "execution_count": null,
   "id": "52054c8d",
   "metadata": {
    "deletable": false,
    "nbgrader": {
     "cell_type": "code",
     "checksum": "663001c805b4a14042542d5f23082bef",
     "grade": false,
     "grade_id": "cell-9ad67ac314cba1e8",
     "locked": false,
     "schema_version": 3,
     "solution": true,
     "task": false
    }
   },
   "outputs": [],
   "source": [
    "# Replace None with appropriate code\n",
    "\n",
    "# Import relevant class\n",
    "None\n",
    "\n",
    "# Create a PCA object\n",
    "pca_transformer = None\n",
    "\n",
    "# Transform data using pca_transformer\n",
    "pca_data = None\n",
    "# YOUR CODE HERE\n",
    "raise NotImplementedError()\n",
    "\n",
    "pca_data"
   ]
  },
  {
   "cell_type": "code",
   "execution_count": null,
   "id": "b3ef3622",
   "metadata": {
    "deletable": false,
    "editable": false,
    "nbgrader": {
     "cell_type": "code",
     "checksum": "63209d98e0fd5e26970f28c46a9f4748",
     "grade": true,
     "grade_id": "cell-be649da3c659f354",
     "locked": true,
     "points": 1,
     "schema_version": 3,
     "solution": false,
     "task": false
    }
   },
   "outputs": [],
   "source": [
    "# pca_transformer should be type PCA\n",
    "assert type(pca_transformer) == PCA\n",
    "\n",
    "# PUT ALL WORK FOR THE ABOVE QUESTION ABOVE THIS CELL\n",
    "# THIS UNALTERABLE CELL CONTAINS HIDDEN TESTS"
   ]
  },
  {
   "cell_type": "code",
   "execution_count": null,
   "id": "e1a1a094",
   "metadata": {
    "deletable": false,
    "editable": false,
    "nbgrader": {
     "cell_type": "code",
     "checksum": "a9be9daa86347518e3d4b46061fda05e",
     "grade": true,
     "grade_id": "cell-f3ef66f5940cbfff",
     "locked": true,
     "points": 1,
     "schema_version": 3,
     "solution": false,
     "task": false
    }
   },
   "outputs": [],
   "source": [
    "# pca_data should be a NumPy array\n",
    "import numpy as np\n",
    "assert type(pca_data) == np.ndarray\n",
    "\n",
    "# pca_data should have the same number of rows as data_scaled\n",
    "assert pca_data.shape[0] == data_scaled.shape[0]\n",
    "\n",
    "# pca_data should have fewer columns than data_scaled\n",
    "assert pca_data.shape[1] < data_scaled.shape[1]\n",
    "\n",
    "# PUT ALL WORK FOR THE ABOVE QUESTION ABOVE THIS CELL\n",
    "# THIS UNALTERABLE CELL CONTAINS HIDDEN TESTS"
   ]
  },
  {
   "cell_type": "markdown",
   "id": "b6133b0b",
   "metadata": {
    "deletable": false,
    "editable": false,
    "nbgrader": {
     "cell_type": "markdown",
     "checksum": "8fcbce088db25bf6ccc2fbcb3767de5a",
     "grade": false,
     "grade_id": "cell-5b365ee60d93d693",
     "locked": true,
     "schema_version": 3,
     "solution": false,
     "task": false
    }
   },
   "source": [
    "In the cell below, we plot the first and second principal components using a scatterplot. If this code doesn't work to produce a plot, that indicates that there is a problem with your code so far."
   ]
  },
  {
   "cell_type": "code",
   "execution_count": null,
   "id": "8c43f22a",
   "metadata": {
    "deletable": false,
    "editable": false,
    "nbgrader": {
     "cell_type": "code",
     "checksum": "d1b2fb2f04fb2e1dceda2daabdc5e0b2",
     "grade": false,
     "grade_id": "cell-0143768aba13c57b",
     "locked": true,
     "schema_version": 3,
     "solution": false,
     "task": false
    }
   },
   "outputs": [],
   "source": [
    "# Run this cell without changes\n",
    "import matplotlib.pyplot as plt\n",
    "\n",
    "fig, ax = plt.subplots()\n",
    "ax.scatter(x=pca_data[:, 0], y=pca_data[:, 1])\n",
    "ax.set_xlabel(\"First Principal Component\")\n",
    "ax.set_ylabel(\"Second Principal Component\")\n",
    "ax.set_title(\"Visualizing the First Two Principal Components of Sensor Data\");"
   ]
  },
  {
   "cell_type": "markdown",
   "id": "efd52645",
   "metadata": {
    "deletable": false,
    "editable": false,
    "nbgrader": {
     "cell_type": "markdown",
     "checksum": "6ceb639f599851fcae54ebcb7b459afd",
     "grade": false,
     "grade_id": "cell-3f998bf71ec81a95",
     "locked": true,
     "schema_version": 3,
     "solution": false,
     "task": false
    }
   },
   "source": [
    "## 3. Interpret a Silhouette Plot to Perform Clustering Analysis\n",
    "\n",
    "You handed the PCA-transformed dataset to a coworker, who produced this silhouette plot. Interpret the plot to choose the optimal number of clusters, then use the scikit-learn `KMeans` class ([documentation here](https://scikit-learn.org/stable/modules/generated/sklearn.cluster.KMeans.html)) to instantiate a KMeans model.\n",
    "\n",
    "<!-- \n",
    "k_values = range(2,21)\n",
    "silhouette_scores = [0.41540858143541637,\n",
    " 0.3438069022316109,\n",
    " 0.1775373667655337,\n",
    " 0.1425018071505172,\n",
    " 0.12365576879282861,\n",
    " 0.11917044787937144,\n",
    " 0.09524343091496036,\n",
    " 0.09155853204663812,\n",
    " 0.09410174137993227,\n",
    " 0.09335504033772586,\n",
    " 0.09386447654377134,\n",
    " 0.09518329181757086,\n",
    " 0.0864125952331548,\n",
    " 0.08622712573000349,\n",
    " 0.08350384589108541,\n",
    " 0.07589314716366936,\n",
    " 0.06926851258928322,\n",
    " 0.06980908513512903,\n",
    " 0.0710121422731501]\n",
    "\n",
    "fig, ax = plt.subplots(figsize=(10,5))\n",
    "\n",
    "ax.plot(k_values, silhouette_scores, color=\"green\", marker=\"s\", )\n",
    "ax.set_xticks(k_values)\n",
    "ax.set_xlabel(\"k in KMeans\")\n",
    "ax.set_ylabel(\"Silhouette Score\")\n",
    "ax.set_title(\"Silhouette Scores for KMeans Models of Varying K Values\");\n",
    "-->\n",
    "\n",
    "![plot of silhouette scores, with the highest y value at an x value of 2](silhouette_score_plot.png)\n",
    "\n",
    "Call the model `kmeans`, and use a `random_state` of 42."
   ]
  },
  {
   "cell_type": "code",
   "execution_count": null,
   "id": "ed52b9fb",
   "metadata": {
    "deletable": false,
    "nbgrader": {
     "cell_type": "code",
     "checksum": "d31c8a639da226ab0072890f6b0ff460",
     "grade": false,
     "grade_id": "cell-770f86deed656b0b",
     "locked": false,
     "schema_version": 3,
     "solution": true,
     "task": false
    }
   },
   "outputs": [],
   "source": [
    "# Replace None with appropriate code\n",
    "\n",
    "# Import relevant model\n",
    "None\n",
    "\n",
    "# Instantiate KMeans model\n",
    "kmeans = None\n",
    "\n",
    "# Fit the model on pca_data, using the best n_clusters value as indicated by the plot above\n",
    "None\n",
    "# YOUR CODE HERE\n",
    "raise NotImplementedError()"
   ]
  },
  {
   "cell_type": "code",
   "execution_count": null,
   "id": "82fa49c7",
   "metadata": {
    "deletable": false,
    "editable": false,
    "nbgrader": {
     "cell_type": "code",
     "checksum": "cbf35ee550ac50427ebec442381eb7bb",
     "grade": true,
     "grade_id": "cell-a56e5b51aa70a343",
     "locked": true,
     "points": 1,
     "schema_version": 3,
     "solution": false,
     "task": false
    }
   },
   "outputs": [],
   "source": [
    "# kmeans should be a fitted KMeans model with as many dimensions in cluster\n",
    "# centers as principal components\n",
    "assert kmeans.cluster_centers_.shape[1] == pca_data.shape[1]\n",
    "\n",
    "# PUT ALL WORK FOR THE ABOVE QUESTION ABOVE THIS CELL\n",
    "# THIS UNALTERABLE CELL CONTAINS HIDDEN TESTS"
   ]
  },
  {
   "cell_type": "markdown",
   "id": "c999fdeb",
   "metadata": {
    "deletable": false,
    "editable": false,
    "nbgrader": {
     "cell_type": "markdown",
     "checksum": "bb6636a3750134aaff40d1cabc7c1001",
     "grade": false,
     "grade_id": "cell-31902b178565a878",
     "locked": true,
     "schema_version": 3,
     "solution": false,
     "task": false
    }
   },
   "source": [
    "## 4. Update the Plot to Reflect the Clusters\n",
    "\n",
    "Use the `kmeans` object to identify the labels for each data point in `pca_data`. Then modify the plotting code below so that the color of each dot on the scatterplot indicates which cluster the data point belongs to.\n",
    "\n",
    "***Hint:*** The `c` keyword argument in the `scatter` method allows you to control the color of the dots."
   ]
  },
  {
   "cell_type": "code",
   "execution_count": null,
   "id": "26afb5b7",
   "metadata": {
    "deletable": false,
    "nbgrader": {
     "cell_type": "code",
     "checksum": "0da4d3fea5eb43bb201c12b4eae58f4f",
     "grade": false,
     "grade_id": "cell-08c6116585a248a7",
     "locked": false,
     "schema_version": 3,
     "solution": true,
     "task": false
    }
   },
   "outputs": [],
   "source": [
    "# Replace None with appropriate code\n",
    "cluster_labels = None\n",
    "\n",
    "fig, ax = plt.subplots()\n",
    "\n",
    "# Modify the below line of code to specify the color:\n",
    "scatter = ax.scatter(x=pca_data[:, 0], y=pca_data[:, 1])\n",
    "\n",
    "# The rest of the code can be run as-is:\n",
    "ax.set_xlabel(\"First Principal Component\")\n",
    "ax.set_ylabel(\"Second Principal Component\")\n",
    "ax.set_title(\"Visualizing the First Two Principal Components of Sensor Data\")\n",
    "# Un-comment the below line to add a legend once you have specified the color\n",
    "# ax.legend(*scatter.legend_elements(fmt=\"Cluster {x:.0f}\"));\n",
    "\n",
    "# YOUR CODE HERE\n",
    "raise NotImplementedError()"
   ]
  },
  {
   "cell_type": "code",
   "execution_count": null,
   "id": "d8a2fde4",
   "metadata": {
    "deletable": false,
    "editable": false,
    "nbgrader": {
     "cell_type": "code",
     "checksum": "8d6d1c279d3d626521c79fae69408f2a",
     "grade": true,
     "grade_id": "cell-4bcf058f29c058b6",
     "locked": true,
     "points": 0.5,
     "schema_version": 3,
     "solution": false,
     "task": false
    }
   },
   "outputs": [],
   "source": [
    "# cluster_labels should be a NumPy array\n",
    "assert type(cluster_labels) == np.ndarray\n",
    "\n",
    "# PUT ALL WORK FOR THE ABOVE QUESTION ABOVE THIS CELL\n",
    "# THIS UNALTERABLE CELL CONTAINS HIDDEN TESTS"
   ]
  },
  {
   "cell_type": "code",
   "execution_count": null,
   "id": "3b794f18",
   "metadata": {
    "deletable": false,
    "editable": false,
    "nbgrader": {
     "cell_type": "code",
     "checksum": "5a83d52d36283aa6aa9e68a100d0bb3c",
     "grade": true,
     "grade_id": "cell-ea2bf6cad3bf4547",
     "locked": true,
     "points": 0.5,
     "schema_version": 3,
     "solution": false,
     "task": false
    }
   },
   "outputs": [],
   "source": [
    "# Plot should have the same number of colors as kmeans has clusters\n",
    "assert len(scatter.legend_elements()[0]) == kmeans.n_clusters\n",
    "\n",
    "# PUT ALL WORK FOR THE ABOVE QUESTION ABOVE THIS CELL\n",
    "# THIS UNALTERABLE CELL CONTAINS HIDDEN TESTS"
   ]
  }
 ],
 "metadata": {
  "kernelspec": {
   "display_name": "Python (python3)",
   "language": "python",
   "name": "python3"
  },
  "language_info": {
   "codemirror_mode": {
    "name": "ipython",
    "version": 3
   },
   "file_extension": ".py",
   "mimetype": "text/x-python",
   "name": "python",
   "nbconvert_exporter": "python",
   "pygments_lexer": "ipython3",
   "version": "3.9.5"
  }
 },
 "nbformat": 4,
 "nbformat_minor": 5
}
